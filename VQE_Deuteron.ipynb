{
 "cells": [
  {
   "cell_type": "code",
   "execution_count": 118,
   "id": "c98031d8",
   "metadata": {},
   "outputs": [],
   "source": [
    "import numpy as np\n",
    "from random import random\n",
    "from scipy.optimize import minimize\n",
    "\n",
    "from qiskit import *\n",
    "from qiskit.circuit.library.standard_gates import U2Gate\n",
    "from qiskit.aqua.operators import WeightedPauliOperator\n",
    "from qiskit.aqua.algorithms import NumPyEigensolver"
   ]
  },
  {
   "cell_type": "markdown",
   "id": "0b1df4ce",
   "metadata": {},
   "source": [
    "# For H1"
   ]
  },
  {
   "cell_type": "code",
   "execution_count": 119,
   "id": "666317ce",
   "metadata": {},
   "outputs": [],
   "source": [
    "def hamiltonian_operator(a, b):\n",
    "    \"\"\"\n",
    "    Creates a*I + b*Z pauli sum \n",
    "    that will be our Hamiltonian operator.\n",
    "    \n",
    "    \"\"\"\n",
    "    pauli_dict = {\n",
    "        'paulis': [{\"coeff\": {\"imag\": 0.0, \"real\": a}, \"label\": \"I\"},\n",
    "                   {\"coeff\": {\"imag\": 0.0, \"real\": b}, \"label\": \"Z\"},\n",
    "                   ]\n",
    "    }\n",
    "    return WeightedPauliOperator.from_dict(pauli_dict)"
   ]
  },
  {
   "cell_type": "code",
   "execution_count": 120,
   "id": "1606a6a8",
   "metadata": {},
   "outputs": [],
   "source": [
    "a, b = -0.218291, 0.218291\n",
    "H = hamiltonian_operator(a, b)"
   ]
  },
  {
   "cell_type": "code",
   "execution_count": 121,
   "id": "716f035d",
   "metadata": {},
   "outputs": [
    {
     "name": "stdout",
     "output_type": "stream",
     "text": [
      "The exact ground state energy is: -0.436582\n"
     ]
    }
   ],
   "source": [
    "exact_result = NumPyEigensolver(H).run()\n",
    "reference_energy = min(np.real(exact_result.eigenvalues))\n",
    "print('The exact ground state energy is: {}'.format(reference_energy))"
   ]
  },
  {
   "cell_type": "code",
   "execution_count": 122,
   "id": "198d7995",
   "metadata": {},
   "outputs": [],
   "source": [
    "def vqe_circuit(parameters, measure):\n",
    "    \"\"\"\n",
    "    Creates a device ansatz circuit for optimization.\n",
    "    :param parameters_array: list of parameters for constructing ansatz state that should be optimized.\n",
    "    :param measure: measurement type. E.g. 'Z' stands for Z measurement.\n",
    "    :return: quantum circuit.\n",
    "    \"\"\"\n",
    "    q = QuantumRegister(1)\n",
    "    c = ClassicalRegister(1)\n",
    "    circuit = QuantumCircuit(q, c)\n",
    "\n",
    "    q = circuit.qregs[0]\n",
    "    circuit.rx(parameters[0], q[0])\n",
    "    circuit.ry(parameters[1], q[0])\n",
    "\n",
    "\n",
    "    # measurement\n",
    "    if measure == 'Z':\n",
    "        circuit.measure(q[0], c[0])\n",
    "    else:\n",
    "        raise ValueError('Not valid input for measurement: input should be \"Z\"')\n",
    "\n",
    "    return circuit\n"
   ]
  },
  {
   "cell_type": "code",
   "execution_count": 123,
   "id": "000944e8",
   "metadata": {},
   "outputs": [],
   "source": [
    "def quantum_module(parameters, measure):\n",
    "    # measure\n",
    "    if measure == 'I':\n",
    "        return 1\n",
    "    elif measure == 'Z':\n",
    "        circuit = vqe_circuit(parameters, 'Z')\n",
    "    else:\n",
    "        raise ValueError('Not valid input for measurement: input should be \"I\" or \"Z\"')\n",
    "    \n",
    "    shots = 1024\n",
    "    backend = BasicAer.get_backend('qasm_simulator')\n",
    "    job = execute(circuit, backend, shots=shots)\n",
    "    result = job.result()\n",
    "    counts = result.get_counts()\n",
    "    \n",
    "    # expectation value estimation from counts\n",
    "    expectation_value = 0\n",
    "    for measure_result in counts:\n",
    "        sign = +1\n",
    "        if measure_result == '1':\n",
    "            sign = -1\n",
    "        expectation_value += sign * counts[measure_result] / shots\n",
    "        \n",
    "    return expectation_value"
   ]
  },
  {
   "cell_type": "code",
   "execution_count": 124,
   "id": "92b00b98",
   "metadata": {},
   "outputs": [],
   "source": [
    "def pauli_operator_to_dict(pauli_operator):\n",
    "    \"\"\"\n",
    "    :param pauli_operator: qiskit's WeightedPauliOperator\n",
    "    :return: a dict in the desired form.\n",
    "    \"\"\"\n",
    "    d = pauli_operator.to_dict()\n",
    "    paulis = d['paulis']\n",
    "    paulis_dict = {}\n",
    "\n",
    "    for x in paulis:\n",
    "        label = x['label']\n",
    "        coeff = x['coeff']['real']\n",
    "        paulis_dict[label] = coeff\n",
    "\n",
    "    return paulis_dict\n",
    "pauli_dict = pauli_operator_to_dict(H)"
   ]
  },
  {
   "cell_type": "code",
   "execution_count": 125,
   "id": "b1b45d3b",
   "metadata": {},
   "outputs": [],
   "source": [
    "def vqe(parameters):\n",
    "        \n",
    "    # quantum_modules\n",
    "    quantum_module_I = pauli_dict['I'] * quantum_module(parameters, 'I')\n",
    "    quantum_module_Z = pauli_dict['Z'] * quantum_module(parameters, 'Z')\n",
    "    \n",
    "    # summing the measurement results\n",
    "    classical_adder = quantum_module_I + quantum_module_Z \n",
    "    return classical_adder"
   ]
  },
  {
   "cell_type": "code",
   "execution_count": 126,
   "id": "ca14a8e9",
   "metadata": {},
   "outputs": [
    {
     "name": "stdout",
     "output_type": "stream",
     "text": [
      "The exact ground state energy is: -0.436582\n",
      "The estimated ground state energy from VQE algorithm is: -0.435302951171875\n"
     ]
    }
   ],
   "source": [
    "parameters_array = np.array([np.pi, np.pi]) #initals guess\n",
    "tol = 1e-3 # tolerance for optimization precision.\n",
    "\n",
    "vqe_result = minimize(vqe, parameters_array, method=\"COBYLA\", tol=tol)\n",
    "print('The exact ground state energy is: {}'.format(reference_energy))\n",
    "print('The estimated ground state energy from VQE algorithm is: {}'.format(vqe_result.fun))"
   ]
  },
  {
   "cell_type": "markdown",
   "id": "94a4c585",
   "metadata": {},
   "source": [
    "# For H2"
   ]
  },
  {
   "cell_type": "code",
   "execution_count": 127,
   "id": "1da89a72",
   "metadata": {},
   "outputs": [],
   "source": [
    "def hamiltonian_operator(a, b, c, d, e):\n",
    "    \"\"\"\n",
    "    Creates a*II + b*IZ + c*ZI + d*XX + e*YY pauli sum\n",
    "    that will be our Hamiltonian operator.\n",
    "   \n",
    "    \"\"\"\n",
    "    pauli_dict = {\n",
    "        'paulis': [{\"coeff\": {\"imag\": 0.0, \"real\": a}, \"label\": \"II\"},\n",
    "                   {\"coeff\": {\"imag\": 0.0, \"real\": b}, \"label\": \"IZ\"},\n",
    "                   {\"coeff\": {\"imag\": 0.0, \"real\": c}, \"label\": \"ZI\"},\n",
    "                   {\"coeff\": {\"imag\": 0.0, \"real\": d}, \"label\": \"XX\"},\n",
    "                   {\"coeff\": {\"imag\": 0.0, \"real\": e}, \"label\": \"YY\"}\n",
    "                   ]\n",
    "    }\n",
    "    return WeightedPauliOperator.from_dict(pauli_dict)"
   ]
  },
  {
   "cell_type": "code",
   "execution_count": 128,
   "id": "85d1ad06",
   "metadata": {},
   "outputs": [],
   "source": [
    "a, b, c, d, e = 5.906709 , 0.218291, -6.125 ,-2.143304 ,-2.143304\n",
    "H = hamiltonian_operator(a, b, c, d, e)"
   ]
  },
  {
   "cell_type": "code",
   "execution_count": 129,
   "id": "a474839b",
   "metadata": {},
   "outputs": [
    {
     "name": "stdout",
     "output_type": "stream",
     "text": [
      "The exact ground state energy is: -1.7491612220155843\n"
     ]
    }
   ],
   "source": [
    "exact_result = NumPyEigensolver(H).run()\n",
    "reference_energy = min(np.real(exact_result.eigenvalues))\n",
    "print('The exact ground state energy is: {}'.format(reference_energy))"
   ]
  },
  {
   "cell_type": "code",
   "execution_count": 130,
   "id": "69c273f2",
   "metadata": {},
   "outputs": [],
   "source": [
    "def vqe_circuit(parameters, measure):\n",
    "    \"\"\"Creates a device ansatz circuit for optimization.\n",
    "    :param parameters_array: list of parameters for constructing ansatz state that should be optimized.\n",
    "    :param measure: measurement type. E.g. 'IZ' stands for Z0 measurement,  'XX' stands for X0X1 measurement.\n",
    "    :return: quantum circuit.\n",
    "    \"\"\"\n",
    "    q = QuantumRegister(2)\n",
    "    c = ClassicalRegister(2)\n",
    "    circuit = QuantumCircuit(q, c)\n",
    "\n",
    "    circuit.x(0)\n",
    "    circuit.ry(parameters[0],q[1])\n",
    "    circuit.cx(q[1], q[0])\n",
    "    \n",
    "    \n",
    "    \n",
    "    # measurement\n",
    "    if measure == 'IZ':\n",
    "        circuit.barrier(q[0],q[1])\n",
    "        circuit.measure(q[0], c[0])\n",
    "    elif measure == 'ZI':\n",
    "        circuit.barrier(q[0],q[1])\n",
    "        circuit.measure(q[1], c[1])\n",
    "    elif measure == 'XX':\n",
    "        circuit.barrier(q[0],q[1])\n",
    "        circuit.u(np.pi/2, 0, np.pi, q[0])\n",
    "        circuit.u(np.pi/2, 0, np.pi, q[1])\n",
    "        circuit.measure(q[0], c[0])\n",
    "        circuit.measure(q[1], c[1])\n",
    "    elif measure == 'YY':\n",
    "        circuit.barrier(q[0],q[1])\n",
    "        circuit.u(np.pi/2, 0, np.pi/2, q[0])\n",
    "        circuit.u(np.pi/2,0, np.pi/2, q[1])\n",
    "        circuit.measure(q[0], c[0])\n",
    "        circuit.measure(q[1], c[1])\n",
    "    else:\n",
    "        raise ValueError('Not valid input for measurement: input should be \"IZ\" or \"ZI\" or \"XX\" or \"YY\"')\n",
    "    \n",
    "    return circuit\n"
   ]
  },
  {
   "cell_type": "code",
   "execution_count": 131,
   "id": "2aec6fa4",
   "metadata": {},
   "outputs": [],
   "source": [
    "def quantum_module(parameters, measure):\n",
    "    # measure\n",
    "    if measure == 'II':\n",
    "        return 1\n",
    "    elif measure == 'IZ':\n",
    "        circuit = vqe_circuit(parameters, 'IZ')\n",
    "    elif measure == 'ZI':\n",
    "        circuit = vqe_circuit(parameters, 'ZI')\n",
    "    elif measure == 'XX':\n",
    "        circuit = vqe_circuit(parameters, 'XX')\n",
    "    elif measure == 'YY':\n",
    "        circuit = vqe_circuit(parameters, 'YY')\n",
    "    else:\n",
    "        raise ValueError('Not valid input for measurement: input should be \"IZ\" or \"ZI\" or \"XX\" or \"YY\"')\n",
    "   \n",
    "    shots = 10000\n",
    "    backend = BasicAer.get_backend('qasm_simulator')\n",
    "    job = execute(circuit, backend, shots=shots)\n",
    "    result = job.result()\n",
    "    counts = result.get_counts()\n",
    "    # expectation value estimation from counts\n",
    "    expectation_value = 0\n",
    "    for measure_result in counts:\n",
    "        sign = -1\n",
    "        if (measure_result == '00') or (measure_result == '11'):\n",
    "             sign = +1\n",
    "        expectation_value += sign * counts[measure_result] / shots\n",
    "        \n",
    "    return expectation_value\n",
    "\n"
   ]
  },
  {
   "cell_type": "code",
   "execution_count": 132,
   "id": "6489a3ba",
   "metadata": {},
   "outputs": [],
   "source": [
    "def pauli_operator_to_dict(pauli_operator):\n",
    "    \"\"\"\n",
    "    from WeightedPauliOperator return a dict:\n",
    "    {II: 5.906709 , IZ: 0.218291, ZI: -6.125, XX: -2.143304, YY: -2.143304}.\n",
    "    :param pauli_operator: qiskit's WeightedPauliOperator\n",
    "    :return: a dict in the desired form.\n",
    "    \"\"\"\n",
    "    d = pauli_operator.to_dict()\n",
    "    paulis = d['paulis']\n",
    "    paulis_dict = {}\n",
    "    \n",
    "    for x in paulis:\n",
    "        label = x['label']\n",
    "        coeff = x['coeff']['real']\n",
    "        paulis_dict[label] = coeff\n",
    "    return paulis_dict\n",
    "pauli_dict = pauli_operator_to_dict(H)"
   ]
  },
  {
   "cell_type": "code",
   "execution_count": 133,
   "id": "4f5f4428",
   "metadata": {},
   "outputs": [],
   "source": [
    "def vqe(parameters):\n",
    "       \n",
    "    # quantum_modules\n",
    "    quantum_module_II = pauli_dict['II'] * quantum_module(parameters, 'II')\n",
    "    quantum_module_IZ = pauli_dict['IZ'] * quantum_module(parameters, 'IZ')\n",
    "    quantum_module_ZI = pauli_dict['ZI'] * quantum_module(parameters, 'ZI')\n",
    "    quantum_module_XX = pauli_dict['XX'] * quantum_module(parameters, 'XX')\n",
    "    quantum_module_YY = pauli_dict['YY'] * quantum_module(parameters, 'YY')\n",
    "   \n",
    "    # summing the measurement results\n",
    "    classical_adder = quantum_module_II + quantum_module_IZ+ quantum_module_ZI + quantum_module_XX + quantum_module_YY\n",
    "    return classical_adder\n"
   ]
  },
  {
   "cell_type": "code",
   "execution_count": 134,
   "id": "2b73c937",
   "metadata": {},
   "outputs": [
    {
     "name": "stdout",
     "output_type": "stream",
     "text": [
      "The exact ground state energy is: -1.7491612220155843\n",
      "The estimated ground state energy from VQE algorithm is: -1.7726937878\n",
      "\n",
      "The optimal parameter theta is : [-5.6023758  2.3910904] \n"
     ]
    }
   ],
   "source": [
    "parameters_array = np.array([-np.pi, np.pi])\n",
    "tol = 1e-3 # tolerance for optimization precision.\n",
    "a= {\"maxiter\" : 200}\n",
    "vqe_result = minimize(vqe, parameters_array, method=\"COBYLA\", tol=tol,options = a)\n",
    "print('The exact ground state energy is: {}'.format(reference_energy))\n",
    "print('The estimated ground state energy from VQE algorithm is: {}'.format(vqe_result.fun))\n",
    "print(\"\\nThe optimal parameter theta is : {} \".format(vqe_result.x))"
   ]
  },
  {
   "cell_type": "markdown",
   "id": "a048e1f1",
   "metadata": {},
   "source": [
    "# for H3"
   ]
  },
  {
   "cell_type": "code",
   "execution_count": 135,
   "id": "917c7665",
   "metadata": {},
   "outputs": [],
   "source": [
    "def hamiltonian_operator(a, b, c, d, e, f, g, h):\n",
    "    \"\"\"\n",
    "    Creates a*III + b*IIZ + c*IZI + d*ZII + e*IXX + f*IYY + g*XXI + h*YYI pauli sum\n",
    "    that will be our Hamiltonian operator.\n",
    "   \n",
    "    \"\"\"\n",
    "    pauli_dict = {\n",
    "        'paulis': [{\"coeff\": {\"imag\": 0.0, \"real\": a}, \"label\": \"III\"},\n",
    "                   {\"coeff\": {\"imag\": 0.0, \"real\": b}, \"label\": \"IIZ\"},\n",
    "                   {\"coeff\": {\"imag\": 0.0, \"real\": c}, \"label\": \"IZI\"},\n",
    "                   {\"coeff\": {\"imag\": 0.0, \"real\": d}, \"label\": \"ZII\"},\n",
    "                   {\"coeff\": {\"imag\": 0.0, \"real\": e}, \"label\": \"IXX\"},\n",
    "                   {\"coeff\": {\"imag\": 0.0, \"real\": f}, \"label\": \"IYY\"},\n",
    "                   {\"coeff\": {\"imag\": 0.0, \"real\": g}, \"label\": \"XXI\"},\n",
    "                   {\"coeff\": {\"imag\": 0.0, \"real\": h}, \"label\": \"YYI\"},\n",
    "                   ]\n",
    "    }\n",
    "    return WeightedPauliOperator.from_dict(pauli_dict)"
   ]
  },
  {
   "cell_type": "code",
   "execution_count": 136,
   "id": "b8726c68",
   "metadata": {},
   "outputs": [],
   "source": [
    "a, b, c, d, e, f, g, h = 15.531709, 0.218291, -6.125, -9.625, -2.143304, -2.143304, -3.913119, -3.913119\n",
    "H = hamiltonian_operator(a, b, c, d, e, f, g, h)"
   ]
  },
  {
   "cell_type": "code",
   "execution_count": 137,
   "id": "a6f00843",
   "metadata": {},
   "outputs": [
    {
     "name": "stdout",
     "output_type": "stream",
     "text": [
      "The exact ground state energy is: -2.0456722876770916\n"
     ]
    }
   ],
   "source": [
    "exact_result = NumPyEigensolver(H).run()\n",
    "reference_energy = min(np.real(exact_result.eigenvalues))\n",
    "print('The exact ground state energy is: {}'.format(reference_energy))"
   ]
  },
  {
   "cell_type": "code",
   "execution_count": 138,
   "id": "d3c8b6e6",
   "metadata": {},
   "outputs": [],
   "source": [
    "def vqe_circuit(parameters, measure):\n",
    "    \"\"\"Creates a device ansatz circuit for optimization.\n",
    "    :param parameters_array: list of parameters for constructing ansatz state that should be optimized.\n",
    "    :param measure: measurement type. E.g. 'IIZ' stands for Z0 measurement,  'XXI' stands for X1X2 measurement.\n",
    "    :return: quantum circuit.\n",
    "    \"\"\"\n",
    "    q = QuantumRegister(3)\n",
    "    c = ClassicalRegister(3)\n",
    "    circuit = QuantumCircuit(q, c)\n",
    "    \n",
    "    circuit.x(0)\n",
    "    circuit.ry(parameters[0],q[1])\n",
    "    circuit.ry(parameters[1],q[2])\n",
    "    circuit.cx(q[2], q[0])\n",
    "    circuit.cx(q[0], q[1])\n",
    "    circuit.barrier(q[0], q[1], q[2])\n",
    "    circuit.ry(-parameters[0], q[1])\n",
    "    circuit.cx(q[0], q[1])\n",
    "    circuit.cx(q[1], q[0])\n",
    "        \n",
    "    \n",
    "    # measurement\n",
    "    if measure == 'IIZ':\n",
    "        circuit.barrier(q[0],q[1],q[2])\n",
    "        circuit.measure(q[0], c[0])\n",
    "    elif measure == 'IZI':\n",
    "        circuit.barrier(q[0],q[1],q[2])\n",
    "        circuit.measure(q[1], c[1])\n",
    "    elif measure == 'ZII':\n",
    "        circuit.barrier(q[0],q[1],q[2])\n",
    "        circuit.measure(q[2], c[2])\n",
    "    elif measure == 'IXX':\n",
    "        circuit.barrier(q[0],q[1],q[2])\n",
    "        circuit.u(np.pi/2, 0, np.pi, q[0])\n",
    "        circuit.u(np.pi/2, 0, np.pi, q[1])\n",
    "        circuit.measure(q[0], c[0])\n",
    "        circuit.measure(q[1], c[1])\n",
    "    elif measure == 'IYY':\n",
    "        circuit.barrier(q[0],q[1],q[2])\n",
    "        circuit.u(np.pi/2, 0, np.pi/2, q[0])\n",
    "        circuit.u(np.pi/2,0, np.pi/2, q[1])\n",
    "        circuit.measure(q[0], c[0])\n",
    "        circuit.measure(q[1], c[1])\n",
    "    elif measure == 'XXI':\n",
    "        circuit.barrier(q[0],q[1],q[2])\n",
    "        circuit.u(np.pi/2, 0, np.pi, q[1])\n",
    "        circuit.u(np.pi/2, 0, np.pi, q[2])\n",
    "        circuit.measure(q[1], c[1])\n",
    "        circuit.measure(q[2], c[2])\n",
    "    elif measure == 'YYI':\n",
    "        circuit.barrier(q[0],q[1],q[2])\n",
    "        circuit.u(np.pi/2, 0, np.pi/2, q[1])\n",
    "        circuit.u(np.pi/2,0, np.pi/2, q[2])\n",
    "        circuit.measure(q[1], c[1])\n",
    "        circuit.measure(q[2], c[2])\n",
    "    else:\n",
    "        raise ValueError('Not valid input for measurement')\n",
    "    \n",
    "    return circuit\n"
   ]
  },
  {
   "cell_type": "code",
   "execution_count": 139,
   "id": "a4720d8c",
   "metadata": {},
   "outputs": [],
   "source": [
    "def quantum_module(parameters, measure):\n",
    "    # measure\n",
    "    if measure == 'III':\n",
    "        return 1\n",
    "    elif measure == 'IIZ':\n",
    "        circuit = vqe_circuit(parameters, 'IIZ')\n",
    "    elif measure == 'IZI':\n",
    "        circuit = vqe_circuit(parameters, 'IZI')\n",
    "    elif measure == 'ZII':\n",
    "        circuit = vqe_circuit(parameters, 'ZII')\n",
    "    elif measure == 'IXX':\n",
    "        circuit = vqe_circuit(parameters, 'IXX')\n",
    "    elif measure == 'IYY':\n",
    "        circuit = vqe_circuit(parameters, 'IYY')\n",
    "    elif measure == 'XXI':\n",
    "        circuit = vqe_circuit(parameters, 'XXI')\n",
    "    elif measure == 'YYI':\n",
    "        circuit = vqe_circuit(parameters, 'YYI')\n",
    "    else:\n",
    "        raise ValueError('Not valid input for measurement: input should be \"III\" or \"IIZ\" or \"IZI\" or \"ZII\" or \"IXX\" or \"IYY\" or \"XXI\" or \"YYI\"')\n",
    "   \n",
    "    shots = 10000\n",
    "    backend = BasicAer.get_backend('qasm_simulator')\n",
    "    job = execute(circuit, backend, shots=shots)\n",
    "    result = job.result()\n",
    "    counts = result.get_counts()\n",
    "    # expectation value estimation from counts\n",
    "    expectation_value = 0\n",
    "    for measure_result in counts:\n",
    "        sign = -1\n",
    "        if (measure_result == '000') or (measure_result == '011')  or (measure_result == '101')  or (measure_result == '110'):\n",
    "             sign = +1\n",
    "        expectation_value += sign * counts[measure_result] / shots\n",
    "        \n",
    "    return expectation_value"
   ]
  },
  {
   "cell_type": "code",
   "execution_count": 140,
   "id": "50ca724e",
   "metadata": {},
   "outputs": [],
   "source": [
    "def pauli_operator_to_dict(pauli_operator):\n",
    "    \"\"\"\n",
    "    from WeightedPauliOperator return a dict:\n",
    "    {III: 15.531709, IIZ: 0.218291, IZI: -6.125, ZII: -9.625, IXX: -2.143304, IYY: -2.143304, XXI: -3.913119, YYI: -3.913119}.\n",
    "    :param pauli_operator: qiskit's WeightedPauliOperator\n",
    "    :return: a dict in the desired form.\n",
    "    \"\"\"\n",
    "    d = pauli_operator.to_dict()\n",
    "    paulis = d['paulis']\n",
    "    paulis_dict = {}\n",
    "    \n",
    "    for x in paulis:\n",
    "        label = x['label']\n",
    "        coeff = x['coeff']['real']\n",
    "        paulis_dict[label] = coeff\n",
    "    return paulis_dict\n",
    "pauli_dict = pauli_operator_to_dict(H)"
   ]
  },
  {
   "cell_type": "code",
   "execution_count": 141,
   "id": "755eeae0",
   "metadata": {},
   "outputs": [],
   "source": [
    "def vqe(parameters):\n",
    "       \n",
    "    # quantum_modules\n",
    "    quantum_module_III = pauli_dict['III'] * quantum_module(parameters, 'III')\n",
    "    quantum_module_IIZ = pauli_dict['IIZ'] * quantum_module(parameters, 'IIZ')\n",
    "    quantum_module_IZI = pauli_dict['IZI'] * quantum_module(parameters, 'IZI')\n",
    "    quantum_module_ZII = pauli_dict['ZII'] * quantum_module(parameters, 'ZII')\n",
    "    quantum_module_IXX = pauli_dict['IXX'] * quantum_module(parameters, 'IXX')\n",
    "    quantum_module_IYY = pauli_dict['IYY'] * quantum_module(parameters, 'IYY')\n",
    "    quantum_module_XXI = pauli_dict['XXI'] * quantum_module(parameters, 'XXI')\n",
    "    quantum_module_YYI = pauli_dict['YYI'] * quantum_module(parameters, 'YYI')\n",
    "   \n",
    "    # summing the measurement results\n",
    "    classical_adder = quantum_module_III + quantum_module_IIZ + quantum_module_IZI + quantum_module_ZII + quantum_module_IXX  + quantum_module_IYY + quantum_module_XXI + quantum_module_YYI\n",
    "    return classical_adder\n"
   ]
  },
  {
   "cell_type": "code",
   "execution_count": 146,
   "id": "fb3e4866",
   "metadata": {},
   "outputs": [
    {
     "name": "stdout",
     "output_type": "stream",
     "text": [
      "The exact ground state energy is: -2.0456722876770916\n",
      "The estimated ground state energy from VQE algorithm is: -1.9620622242000008\n",
      "\n",
      "The optimal parameter theta is : [0.30666309 0.1797221 ] \n"
     ]
    }
   ],
   "source": [
    "parameters_array = np.array([np.pi/2,np.pi/2])\n",
    "tol = 1e-3 # tolerance for optimization precision.\n",
    "a= {\"maxiter\" : 500}\n",
    "vqe_result = minimize(vqe, parameters_array, method=\"COBYLA\", tol=tol,options = a)\n",
    "print('The exact ground state energy is: {}'.format(reference_energy))\n",
    "print('The estimated ground state energy from VQE algorithm is: {}'.format(vqe_result.fun))\n",
    "print(\"\\nThe optimal parameter theta is : {} \".format(vqe_result.x))"
   ]
  },
  {
   "cell_type": "code",
   "execution_count": 147,
   "id": "8e82fcbb",
   "metadata": {},
   "outputs": [
    {
     "name": "stdout",
     "output_type": "stream",
     "text": [
      "-1.9717128774000026\n"
     ]
    }
   ],
   "source": [
    "#trying to use qiskit optimizer\n",
    "from qiskit.aqua.components.optimizers import COBYLA, SPSA\n",
    "\n",
    "# Initialize the COBYLA optimizer\n",
    "optimizer = COBYLA(maxiter=500, tol=0.0001)\n",
    "parameters_array = np.array([np.pi/2, np.pi/2])\n",
    "\n",
    "vqe_results = optimizer.optimize(num_vars=2, objective_function=vqe, initial_point=parameters_array)\n",
    "print(vqe_results[1])"
   ]
  },
  {
   "cell_type": "code",
   "execution_count": null,
   "id": "52f6c5ad",
   "metadata": {},
   "outputs": [],
   "source": []
  }
 ],
 "metadata": {
  "kernelspec": {
   "display_name": "Python 3",
   "language": "python",
   "name": "python3"
  },
  "language_info": {
   "codemirror_mode": {
    "name": "ipython",
    "version": 3
   },
   "file_extension": ".py",
   "mimetype": "text/x-python",
   "name": "python",
   "nbconvert_exporter": "python",
   "pygments_lexer": "ipython3",
   "version": "3.8.8"
  }
 },
 "nbformat": 4,
 "nbformat_minor": 5
}
