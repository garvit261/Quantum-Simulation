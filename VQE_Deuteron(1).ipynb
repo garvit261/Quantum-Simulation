{
 "cells": [
  {
   "cell_type": "code",
   "execution_count": 2,
   "metadata": {},
   "outputs": [],
   "source": [
    "import numpy as np\n",
    "import math\n",
    "from random import random\n",
    "from scipy.optimize import minimize\n",
    "\n",
    "from qiskit import *\n",
    "from qiskit.circuit.library.standard_gates import U2Gate\n",
    "from qiskit.aqua.operators import WeightedPauliOperator\n",
    "from qiskit.aqua.algorithms import NumPyEigensolver"
   ]
  },
  {
   "cell_type": "markdown",
   "metadata": {},
   "source": [
    "# For H1"
   ]
  },
  {
   "cell_type": "code",
   "execution_count": 3,
   "metadata": {},
   "outputs": [],
   "source": [
    "def hamiltonian_operator(a, b):\n",
    "    \"\"\"\n",
    "    Creates a*I + b*Z pauli sum \n",
    "    that will be our Hamiltonian operator.\n",
    "    \n",
    "    \"\"\"\n",
    "    pauli_dict = {\n",
    "        'paulis': [{\"coeff\": {\"imag\": 0.0, \"real\": a}, \"label\": \"I\"},\n",
    "                   {\"coeff\": {\"imag\": 0.0, \"real\": b}, \"label\": \"Z\"},\n",
    "                   ]\n",
    "    }\n",
    "    return WeightedPauliOperator.from_dict(pauli_dict)"
   ]
  },
  {
   "cell_type": "code",
   "execution_count": 4,
   "metadata": {},
   "outputs": [],
   "source": [
    "a, b = -0.218291, 0.218291\n",
    "H = hamiltonian_operator(a, b)"
   ]
  },
  {
   "cell_type": "code",
   "execution_count": 5,
   "metadata": {},
   "outputs": [
    {
     "name": "stdout",
     "output_type": "stream",
     "text": [
      "The exact ground state energy is: -0.436582\n"
     ]
    }
   ],
   "source": [
    "exact_result = NumPyEigensolver(H).run()\n",
    "reference_energy = min(np.real(exact_result.eigenvalues))\n",
    "print('The exact ground state energy is: {}'.format(reference_energy))"
   ]
  },
  {
   "cell_type": "code",
   "execution_count": 6,
   "metadata": {},
   "outputs": [],
   "source": [
    "def vqe_circuit(parameters, measure):\n",
    "    \"\"\"\n",
    "    Creates a device ansatz circuit for optimization.\n",
    "    :param parameters_array: list of parameters for constructing ansatz state that should be optimized.\n",
    "    :param measure: measurement type. E.g. 'Z' stands for Z measurement.\n",
    "    :return: quantum circuit.\n",
    "    \"\"\"\n",
    "    q = QuantumRegister(1)\n",
    "    c = ClassicalRegister(1)\n",
    "    circuit = QuantumCircuit(q, c)\n",
    "\n",
    "    q = circuit.qregs[0]\n",
    "    circuit.rx(parameters[0], q[0])\n",
    "    circuit.ry(parameters[1], q[0])\n",
    "\n",
    "\n",
    "    # measurement\n",
    "    if measure == 'Z':\n",
    "        circuit.measure(q[0], c[0])\n",
    "    else:\n",
    "        raise ValueError('Not valid input for measurement: input should be \"Z\"')\n",
    "\n",
    "    return circuit\n"
   ]
  },
  {
   "cell_type": "code",
   "execution_count": 7,
   "metadata": {},
   "outputs": [],
   "source": [
    "def quantum_module(parameters, measure):\n",
    "    # measure\n",
    "    if measure == 'I':\n",
    "        return 1\n",
    "    elif measure == 'Z':\n",
    "        circuit = vqe_circuit(parameters, 'Z')\n",
    "    else:\n",
    "        raise ValueError('Not valid input for measurement: input should be \"I\" or \"Z\"')\n",
    "    \n",
    "    shots = 1024\n",
    "    backend = BasicAer.get_backend('qasm_simulator')\n",
    "    job = execute(circuit, backend, shots=shots)\n",
    "    result = job.result()\n",
    "    counts = result.get_counts()\n",
    "    \n",
    "    # expectation value estimation from counts\n",
    "    expectation_value = 0\n",
    "    for measure_result in counts:\n",
    "        sign = +1\n",
    "        if measure_result == '1':\n",
    "            sign = -1\n",
    "        expectation_value += sign * counts[measure_result] / shots\n",
    "        \n",
    "    return expectation_value"
   ]
  },
  {
   "cell_type": "code",
   "execution_count": 8,
   "metadata": {},
   "outputs": [],
   "source": [
    "def pauli_operator_to_dict(pauli_operator):\n",
    "    \"\"\"\n",
    "    :param pauli_operator: qiskit's WeightedPauliOperator\n",
    "    :return: a dict in the desired form.\n",
    "    \"\"\"\n",
    "    d = pauli_operator.to_dict()\n",
    "    paulis = d['paulis']\n",
    "    paulis_dict = {}\n",
    "\n",
    "    for x in paulis:\n",
    "        label = x['label']\n",
    "        coeff = x['coeff']['real']\n",
    "        paulis_dict[label] = coeff\n",
    "\n",
    "    return paulis_dict\n",
    "pauli_dict = pauli_operator_to_dict(H)"
   ]
  },
  {
   "cell_type": "code",
   "execution_count": 9,
   "metadata": {},
   "outputs": [],
   "source": [
    "def vqe(parameters):\n",
    "        \n",
    "    # quantum_modules\n",
    "    quantum_module_I = pauli_dict['I'] * quantum_module(parameters, 'I')\n",
    "    quantum_module_Z = pauli_dict['Z'] * quantum_module(parameters, 'Z')\n",
    "    \n",
    "    # summing the measurement results\n",
    "    classical_adder = quantum_module_I + quantum_module_Z \n",
    "    return classical_adder"
   ]
  },
  {
   "cell_type": "code",
   "execution_count": 10,
   "metadata": {},
   "outputs": [
    {
     "name": "stdout",
     "output_type": "stream",
     "text": [
      "The exact ground state energy is: -0.436582\n",
      "The estimated ground state energy from VQE algorithm is: -0.43615565039062504\n"
     ]
    }
   ],
   "source": [
    "parameters_array = np.array([np.pi, np.pi]) #initals guess\n",
    "tol = 1e-3 # tolerance for optimization precision.\n",
    "\n",
    "vqe_result = minimize(vqe, parameters_array, method=\"COBYLA\", tol=tol)\n",
    "print('The exact ground state energy is: {}'.format(reference_energy))\n",
    "print('The estimated ground state energy from VQE algorithm is: {}'.format(vqe_result.fun))"
   ]
  },
  {
   "cell_type": "markdown",
   "metadata": {},
   "source": [
    "# For H2"
   ]
  },
  {
   "cell_type": "code",
   "execution_count": 3,
   "metadata": {},
   "outputs": [],
   "source": [
    "def hamiltonian_operator(a, b, c, d, e):\n",
    "    \"\"\"\n",
    "    Creates a*II + b*IZ + c*ZI + d*XX + e*YY pauli sum\n",
    "    that will be our Hamiltonian operator.\n",
    "   \n",
    "    \"\"\"\n",
    "    pauli_dict = {\n",
    "        'paulis': [{\"coeff\": {\"imag\": 0.0, \"real\": a}, \"label\": \"II\"},\n",
    "                   {\"coeff\": {\"imag\": 0.0, \"real\": b}, \"label\": \"IZ\"},\n",
    "                   {\"coeff\": {\"imag\": 0.0, \"real\": c}, \"label\": \"ZI\"},\n",
    "                   {\"coeff\": {\"imag\": 0.0, \"real\": d}, \"label\": \"XX\"},\n",
    "                   {\"coeff\": {\"imag\": 0.0, \"real\": e}, \"label\": \"YY\"}\n",
    "                   ]\n",
    "    }\n",
    "    return WeightedPauliOperator.from_dict(pauli_dict)"
   ]
  },
  {
   "cell_type": "code",
   "execution_count": 4,
   "metadata": {},
   "outputs": [],
   "source": [
    "a, b, c, d, e = 5.906709 , 0.218291, -6.125 ,-2.143304 ,-2.143304\n",
    "H = hamiltonian_operator(a, b, c, d, e)"
   ]
  },
  {
   "cell_type": "code",
   "execution_count": null,
   "metadata": {},
   "outputs": [],
   "source": [
    "exact_result = NumPyEigensolver(H).run()\n",
    "reference_energy = min(np.real(exact_result.eigenvalues))\n",
    "print('The exact ground state energy is: {}'.format(reference_energy))"
   ]
  },
  {
   "cell_type": "code",
   "execution_count": 1,
   "metadata": {},
   "outputs": [],
   "source": [
    "def vqe_circuit(parameters, measure):\n",
    "    \"\"\"Creates a device ansatz circuit for optimization.\n",
    "    :param parameters_array: list of parameters for constructing ansatz state that should be optimized.\n",
    "    :param measure: measurement type. E.g. 'IZ' stands for Z0 measurement,  'XX' stands for X0X1 measurement.\n",
    "    :return: quantum circuit.\n",
    "    \"\"\"\n",
    "    q = QuantumRegister(2)\n",
    "    c = ClassicalRegister(2)\n",
    "    circuit = QuantumCircuit(q, c)\n",
    "\n",
    "    circuit.x(0)\n",
    "    circuit.ry(parameters[0],q[1])\n",
    "    circuit.cx(q[1], q[0])\n",
    "    \n",
    "    \n",
    "    \n",
    "    # measurement\n",
    "    if measure == 'IZ':\n",
    "        circuit.barrier(q[0],q[1])\n",
    "        circuit.measure(q[0], c[0])\n",
    "    elif measure == 'ZI':\n",
    "        circuit.barrier(q[0],q[1])\n",
    "        circuit.measure(q[1], c[1])\n",
    "    elif measure == 'XX':\n",
    "        circuit.barrier(q[0],q[1])\n",
    "        circuit.u(np.pi/2, 0, np.pi, q[0])\n",
    "        circuit.u(np.pi/2, 0, np.pi, q[1])\n",
    "        circuit.measure(q[0], c[0])\n",
    "        circuit.measure(q[1], c[1])\n",
    "    elif measure == 'YY':\n",
    "        circuit.barrier(q[0],q[1])\n",
    "        circuit.u(np.pi/2, 0, np.pi/2, q[0])\n",
    "        circuit.u(np.pi/2,0, np.pi/2, q[1])\n",
    "        circuit.measure(q[0], c[0])\n",
    "        circuit.measure(q[1], c[1])\n",
    "    else:\n",
    "        raise ValueError('Not valid input for measurement: input should be \"IZ\" or \"ZI\" or \"XX\" or \"YY\"')\n",
    "    \n",
    "    return circuit\n"
   ]
  },
  {
   "cell_type": "code",
   "execution_count": 2,
   "metadata": {},
   "outputs": [],
   "source": [
    "def quantum_module(parameters, measure):\n",
    "    # measure\n",
    "    if measure == 'II':\n",
    "        return 1\n",
    "    elif measure == 'IZ':\n",
    "        circuit = vqe_circuit(parameters, 'IZ')\n",
    "    elif measure == 'ZI':\n",
    "        circuit = vqe_circuit(parameters, 'ZI')\n",
    "    elif measure == 'XX':\n",
    "        circuit = vqe_circuit(parameters, 'XX')\n",
    "    elif measure == 'YY':\n",
    "        circuit = vqe_circuit(parameters, 'YY')\n",
    "    else:\n",
    "        raise ValueError('Not valid input for measurement: input should be \"IZ\" or \"ZI\" or \"XX\" or \"YY\"')\n",
    "   \n",
    "    shots = 65536\n",
    "    backend = BasicAer.get_backend('qasm_simulator')\n",
    "    job = execute(circuit, backend, shots=shots)\n",
    "    result = job.result()\n",
    "    counts = result.get_counts()\n",
    "    # expectation value estimation from counts\n",
    "    expectation_value = 0\n",
    "    for measure_result in counts:\n",
    "        sign = -1\n",
    "        if (measure_result == '00') or (measure_result == '11'):\n",
    "             sign = +1\n",
    "        expectation_value += sign * counts[measure_result] / shots\n",
    "        \n",
    "    return expectation_value\n",
    "\n"
   ]
  },
  {
   "cell_type": "code",
   "execution_count": 3,
   "metadata": {},
   "outputs": [
    {
     "ename": "NameError",
     "evalue": "name 'H' is not defined",
     "output_type": "error",
     "traceback": [
      "\u001b[0;31m---------------------------------------------------------------------------\u001b[0m",
      "\u001b[0;31mNameError\u001b[0m                                 Traceback (most recent call last)",
      "\u001b[0;32m<ipython-input-3-086dae3d737a>\u001b[0m in \u001b[0;36m<module>\u001b[0;34m\u001b[0m\n\u001b[1;32m     15\u001b[0m         \u001b[0mpaulis_dict\u001b[0m\u001b[0;34m[\u001b[0m\u001b[0mlabel\u001b[0m\u001b[0;34m]\u001b[0m \u001b[0;34m=\u001b[0m \u001b[0mcoeff\u001b[0m\u001b[0;34m\u001b[0m\u001b[0;34m\u001b[0m\u001b[0m\n\u001b[1;32m     16\u001b[0m     \u001b[0;32mreturn\u001b[0m \u001b[0mpaulis_dict\u001b[0m\u001b[0;34m\u001b[0m\u001b[0;34m\u001b[0m\u001b[0m\n\u001b[0;32m---> 17\u001b[0;31m \u001b[0mpauli_dict\u001b[0m \u001b[0;34m=\u001b[0m \u001b[0mpauli_operator_to_dict\u001b[0m\u001b[0;34m(\u001b[0m\u001b[0mH\u001b[0m\u001b[0;34m)\u001b[0m\u001b[0;34m\u001b[0m\u001b[0;34m\u001b[0m\u001b[0m\n\u001b[0m",
      "\u001b[0;31mNameError\u001b[0m: name 'H' is not defined"
     ]
    }
   ],
   "source": [
    "def pauli_operator_to_dict(pauli_operator):\n",
    "    \"\"\"\n",
    "    from WeightedPauliOperator return a dict:\n",
    "    {II: 5.906709 , IZ: 0.218291, ZI: -6.125, XX: -2.143304, YY: -2.143304}.\n",
    "    :param pauli_operator: qiskit's WeightedPauliOperator\n",
    "    :return: a dict in the desired form.\n",
    "    \"\"\"\n",
    "    d = pauli_operator.to_dict()\n",
    "    paulis = d['paulis']\n",
    "    paulis_dict = {}\n",
    "    \n",
    "    for x in paulis:\n",
    "        label = x['label']\n",
    "        coeff = x['coeff']['real']\n",
    "        paulis_dict[label] = coeff\n",
    "    return paulis_dict\n",
    "pauli_dict = pauli_operator_to_dict(H)"
   ]
  },
  {
   "cell_type": "code",
   "execution_count": null,
   "metadata": {},
   "outputs": [],
   "source": [
    "def vqe(parameters):\n",
    "       \n",
    "    # quantum_modules\n",
    "    quantum_module_II = pauli_dict['II'] * quantum_module(parameters, 'II')\n",
    "    quantum_module_IZ = pauli_dict['IZ'] * quantum_module(parameters, 'IZ')\n",
    "    quantum_module_ZI = pauli_dict['ZI'] * quantum_module(parameters, 'ZI')\n",
    "    quantum_module_XX = pauli_dict['XX'] * quantum_module(parameters, 'XX')\n",
    "    quantum_module_YY = pauli_dict['YY'] * quantum_module(parameters, 'YY')\n",
    "   \n",
    "    # summing the measurement results\n",
    "    classical_adder = quantum_module_II + quantum_module_IZ+ quantum_module_ZI + quantum_module_XX + quantum_module_YY\n",
    "    energy = classical_adder*(1-2*((pow(parameters[2],2)/parameters[3])*(math.exp(-2*parameters[3]*11.45))) - 4*((11.45*pow(parameters[3],4)/parameters[3])*(math.exp(-4*parameters[2]*11.45))))\n",
    "    return energy\n"
   ]
  },
  {
   "cell_type": "code",
   "execution_count": null,
   "metadata": {},
   "outputs": [],
   "source": [
    "parameters_array = np.array([-np.pi, np.pi, 100, 100])\n",
    "tol = 1e-5 # tolerance for optimization precision.\n",
    "a= {\"maxiter\" : 100}\n",
    "vqe_result = minimize(vqe, parameters_array, method=\"COBYLA\", tol=tol,options = a)\n",
    "print('The exact ground state energy is: {}'.format(reference_energy))\n",
    "print('The estimated ground state energy from VQE algorithm is: {}'.format(vqe_result.fun))\n",
    "print(\"\\nThe optimal parameter theta is : {} \".format(vqe_result.x))"
   ]
  },
  {
   "cell_type": "markdown",
   "metadata": {},
   "source": [
    "# for H3"
   ]
  },
  {
   "cell_type": "code",
   "execution_count": 18,
   "metadata": {},
   "outputs": [],
   "source": [
    "def hamiltonian_operator(a, b, c, d, e, f, g, h):\n",
    "    \"\"\"\n",
    "    Creates a*III + b*IIZ + c*IZI + d*ZII + e*IXX + f*IYY + g*XXI + h*YYI pauli sum\n",
    "    that will be our Hamiltonian operator.\n",
    "   \n",
    "    \"\"\"\n",
    "    pauli_dict = {\n",
    "        'paulis': [{\"coeff\": {\"imag\": 0.0, \"real\": a}, \"label\": \"III\"},\n",
    "                   {\"coeff\": {\"imag\": 0.0, \"real\": b}, \"label\": \"IIZ\"},\n",
    "                   {\"coeff\": {\"imag\": 0.0, \"real\": c}, \"label\": \"IZI\"},\n",
    "                   {\"coeff\": {\"imag\": 0.0, \"real\": d}, \"label\": \"ZII\"},\n",
    "                   {\"coeff\": {\"imag\": 0.0, \"real\": e}, \"label\": \"IXX\"},\n",
    "                   {\"coeff\": {\"imag\": 0.0, \"real\": f}, \"label\": \"IYY\"},\n",
    "                   {\"coeff\": {\"imag\": 0.0, \"real\": g}, \"label\": \"XXI\"},\n",
    "                   {\"coeff\": {\"imag\": 0.0, \"real\": h}, \"label\": \"YYI\"},\n",
    "                   ]\n",
    "    }\n",
    "    return WeightedPauliOperator.from_dict(pauli_dict)"
   ]
  },
  {
   "cell_type": "code",
   "execution_count": 19,
   "metadata": {},
   "outputs": [],
   "source": [
    "a, b, c, d, e, f, g, h = 15.531709, 0.218291, -6.125, -9.625, -2.143304, -2.143304, -3.913119, -3.913119\n",
    "H = hamiltonian_operator(a, b, c, d, e, f, g, h)"
   ]
  },
  {
   "cell_type": "code",
   "execution_count": 20,
   "metadata": {},
   "outputs": [
    {
     "name": "stdout",
     "output_type": "stream",
     "text": [
      "The exact ground state energy is: -2.045672287677095\n"
     ]
    }
   ],
   "source": [
    "exact_result = NumPyEigensolver(H).run()\n",
    "reference_energy = min(np.real(exact_result.eigenvalues))\n",
    "print('The exact ground state energy is: {}'.format(reference_energy))"
   ]
  },
  {
   "cell_type": "code",
   "execution_count": 21,
   "metadata": {},
   "outputs": [],
   "source": [
    "def vqe_circuit(parameters, measure):\n",
    "    \"\"\"Creates a device ansatz circuit for optimization.\n",
    "    :param parameters_array: list of parameters for constructing ansatz state that should be optimized.\n",
    "    :param measure: measurement type. E.g. 'IIZ' stands for Z0 measurement,  'XXI' stands for X1X2 measurement.\n",
    "    :return: quantum circuit.\n",
    "    \"\"\"\n",
    "    q = QuantumRegister(3)\n",
    "    c = ClassicalRegister(3)\n",
    "    circuit = QuantumCircuit(q, c)\n",
    "    \n",
    "#     circuit.x(0)\n",
    "#     circuit.ry(parameters[0],q[1])\n",
    "#     circuit.ry(parameters[1],q[2])\n",
    "#     circuit.cx(q[2], q[0])\n",
    "#     circuit.cx(q[0], q[1])\n",
    "#     circuit.barrier(q[0], q[1], q[2])\n",
    "#     circuit.ry(-parameters[0], q[1])\n",
    "#     circuit.cx(q[0], q[1])\n",
    "#     circuit.cx(q[1], q[0])\n",
    "    circuit.x(2)\n",
    "    circuit.ry(parameters[0],q[1])\n",
    "    circuit.cx(q[1], q[2])\n",
    "    circuit.barrier(q[0], q[1], q[2])\n",
    "    circuit.ry(parameters[1], q[0])\n",
    "    circuit.cx(q[1], q[0])\n",
    "    circuit.ry(-parameters[1], q[0])\n",
    "    circuit.cx(q[1], q[0])\n",
    "    circuit.cx(q[0], q[1])\n",
    "    # measurement\n",
    "    if measure == 'IIZ':\n",
    "        circuit.barrier(q[0],q[1],q[2])\n",
    "        circuit.measure(q[0], c[0])\n",
    "    elif measure == 'IZI':\n",
    "        circuit.barrier(q[0],q[1],q[2])\n",
    "        circuit.measure(q[1], c[1])\n",
    "    elif measure == 'ZII':\n",
    "        circuit.barrier(q[0],q[1],q[2])\n",
    "        circuit.measure(q[2], c[2])\n",
    "    elif measure == 'IXX':\n",
    "        circuit.barrier(q[0],q[1],q[2])\n",
    "        circuit.u(np.pi/2, 0, np.pi, q[0])\n",
    "        circuit.u(np.pi/2, 0, np.pi, q[1])\n",
    "        circuit.measure(q[0], c[0])\n",
    "        circuit.measure(q[1], c[1])\n",
    "    elif measure == 'IYY':\n",
    "        circuit.barrier(q[0],q[1],q[2])\n",
    "        circuit.u(np.pi/2, 0, np.pi/2, q[0])\n",
    "        circuit.u(np.pi/2,0, np.pi/2, q[1])\n",
    "        circuit.measure(q[0], c[0])\n",
    "        circuit.measure(q[1], c[1])\n",
    "    elif measure == 'XXI':\n",
    "        circuit.barrier(q[0],q[1],q[2])\n",
    "        circuit.u(np.pi/2, 0, np.pi, q[1])\n",
    "        circuit.u(np.pi/2, 0, np.pi, q[2])\n",
    "        circuit.measure(q[1], c[1])\n",
    "        circuit.measure(q[2], c[2])\n",
    "    elif measure == 'YYI':\n",
    "        circuit.barrier(q[0],q[1],q[2])\n",
    "        circuit.u(np.pi/2, 0, np.pi/2, q[1])\n",
    "        circuit.u(np.pi/2,0, np.pi/2, q[2])\n",
    "        circuit.measure(q[1], c[1])\n",
    "        circuit.measure(q[2], c[2])\n",
    "    else:\n",
    "        raise ValueError('Not valid input for measurement')\n",
    "    \n",
    "    return circuit\n"
   ]
  },
  {
   "cell_type": "code",
   "execution_count": 22,
   "metadata": {},
   "outputs": [],
   "source": [
    "def quantum_module(parameters, measure):\n",
    "    # measure\n",
    "    if measure == 'III':\n",
    "        return 1\n",
    "    elif measure == 'IIZ':\n",
    "        circuit = vqe_circuit(parameters, 'IIZ')\n",
    "    elif measure == 'IZI':\n",
    "        circuit = vqe_circuit(parameters, 'IZI')\n",
    "    elif measure == 'ZII':\n",
    "        circuit = vqe_circuit(parameters, 'ZII')\n",
    "    elif measure == 'IXX':\n",
    "        circuit = vqe_circuit(parameters, 'IXX')\n",
    "    elif measure == 'IYY':\n",
    "        circuit = vqe_circuit(parameters, 'IYY')\n",
    "    elif measure == 'XXI':\n",
    "        circuit = vqe_circuit(parameters, 'XXI')\n",
    "    elif measure == 'YYI':\n",
    "        circuit = vqe_circuit(parameters, 'YYI')\n",
    "    else:\n",
    "        raise ValueError('Not valid input for measurement: input should be \"III\" or \"IIZ\" or \"IZI\" or \"ZII\" or \"IXX\" or \"IYY\" or \"XXI\" or \"YYI\"')\n",
    "   \n",
    "    shots = 65536\n",
    "    backend = BasicAer.get_backend('qasm_simulator')\n",
    "    job = execute(circuit, backend, shots=shots)\n",
    "    result = job.result()\n",
    "    counts = result.get_counts()\n",
    "    # expectation value estimation from counts\n",
    "    expectation_value = 0\n",
    "    for measure_result in counts:\n",
    "        sign = -1\n",
    "        if (measure_result == '000') or (measure_result == '011')  or (measure_result == '101')  or (measure_result == '110'):\n",
    "             sign = +1\n",
    "        expectation_value += sign * counts[measure_result] / shots\n",
    "        \n",
    "    return expectation_value"
   ]
  },
  {
   "cell_type": "code",
   "execution_count": 23,
   "metadata": {},
   "outputs": [],
   "source": [
    "def pauli_operator_to_dict(pauli_operator):\n",
    "    \"\"\"\n",
    "    from WeightedPauliOperator return a dict:\n",
    "    {III: 15.531709, IIZ: 0.218291, IZI: -6.125, ZII: -9.625, IXX: -2.143304, IYY: -2.143304, XXI: -3.913119, YYI: -3.913119}.\n",
    "    :param pauli_operator: qiskit's WeightedPauliOperator\n",
    "    :return: a dict in the desired form.\n",
    "    \"\"\"\n",
    "    d = pauli_operator.to_dict()\n",
    "    paulis = d['paulis']\n",
    "    paulis_dict = {}\n",
    "    \n",
    "    for x in paulis:\n",
    "        label = x['label']\n",
    "        coeff = x['coeff']['real']\n",
    "        paulis_dict[label] = coeff\n",
    "    return paulis_dict\n",
    "pauli_dict = pauli_operator_to_dict(H)"
   ]
  },
  {
   "cell_type": "code",
   "execution_count": 24,
   "metadata": {},
   "outputs": [],
   "source": [
    "def vqe(parameters):\n",
    "       \n",
    "    # quantum_modules\n",
    "    quantum_module_III = pauli_dict['III'] * quantum_module(parameters, 'III')\n",
    "    quantum_module_IIZ = pauli_dict['IIZ'] * quantum_module(parameters, 'IIZ')\n",
    "    quantum_module_IZI = pauli_dict['IZI'] * quantum_module(parameters, 'IZI')\n",
    "    quantum_module_ZII = pauli_dict['ZII'] * quantum_module(parameters, 'ZII')\n",
    "    quantum_module_IXX = pauli_dict['IXX'] * quantum_module(parameters, 'IXX')\n",
    "    quantum_module_IYY = pauli_dict['IYY'] * quantum_module(parameters, 'IYY')\n",
    "    quantum_module_XXI = pauli_dict['XXI'] * quantum_module(parameters, 'XXI')\n",
    "    quantum_module_YYI = pauli_dict['YYI'] * quantum_module(parameters, 'YYI')\n",
    "   \n",
    "    # summing the measurement results\n",
    "    classical_adder = quantum_module_III + quantum_module_IIZ + quantum_module_IZI + quantum_module_ZII + quantum_module_IXX  + quantum_module_IYY + quantum_module_XXI + quantum_module_YYI\n",
    "    return classical_adder\n"
   ]
  },
  {
   "cell_type": "code",
   "execution_count": 25,
   "metadata": {},
   "outputs": [
    {
     "name": "stdout",
     "output_type": "stream",
     "text": [
      "The exact ground state energy is: -2.045672287677095\n",
      "The estimated ground state energy from VQE algorithm is: -2.045083450592042\n",
      "\n",
      "The optimal parameter theta is : [2.83538614 1.20159288] \n"
     ]
    }
   ],
   "source": [
    "parameters_array = np.array([np.pi/2,np.pi/2])\n",
    "tol = 1e-5 # tolerance for optimization precision.\n",
    "a= {\"maxiter\" : 500}\n",
    "vqe_result = minimize(vqe, parameters_array, method=\"COBYLA\", tol=tol,options = a)\n",
    "print('The exact ground state energy is: {}'.format(reference_energy))\n",
    "print('The estimated ground state energy from VQE algorithm is: {}'.format(vqe_result.fun))\n",
    "print(\"\\nThe optimal parameter theta is : {} \".format(vqe_result.x))"
   ]
  },
  {
   "cell_type": "code",
   "execution_count": 26,
   "metadata": {},
   "outputs": [
    {
     "name": "stdout",
     "output_type": "stream",
     "text": [
      "-1.991915398345948\n"
     ]
    }
   ],
   "source": [
    "#trying to use qiskit optimizer\n",
    "from qiskit.aqua.components.optimizers import COBYLA, SPSA\n",
    "\n",
    "# Initialize the COBYLA optimizer\n",
    "optimizer = COBYLA(maxiter=500, tol=0.0001)\n",
    "parameters_array = np.array([np.pi/2, np.pi/2])\n",
    "\n",
    "vqe_results = optimizer.optimize(num_vars=2, objective_function=vqe, initial_point=parameters_array)\n",
    "print(vqe_results[1])"
   ]
  },
  {
   "cell_type": "code",
   "execution_count": 27,
   "metadata": {},
   "outputs": [
    {
     "name": "stdout",
     "output_type": "stream",
     "text": [
      "[-3.14159265 -3.11659265 -3.09159265 -3.06659265 -3.04159265 -3.01659265\n",
      " -2.99159265 -2.96659265 -2.94159265 -2.91659265]\n"
     ]
    },
    {
     "data": {
      "text/plain": [
       "252"
      ]
     },
     "execution_count": 27,
     "metadata": {},
     "output_type": "execute_result"
    }
   ],
   "source": [
    "# define range for input\n",
    "r_min, r_max = -np.pi, np.pi\n",
    "# sample input range uniformly at 0.1 increments\n",
    "inputs = np.arange(r_min, r_max, 0.025)\n",
    "# summarize some of the input domain\n",
    "print(inputs[:10])\n",
    "len(inputs)"
   ]
  },
  {
   "cell_type": "code",
   "execution_count": 28,
   "metadata": {},
   "outputs": [],
   "source": [
    "temp=[]\n",
    "for i in inputs:\n",
    "    temp.append([i,i])\n",
    "temp=np.array(temp)"
   ]
  },
  {
   "cell_type": "code",
   "execution_count": 29,
   "metadata": {},
   "outputs": [
    {
     "name": "stdout",
     "output_type": "stream",
     "text": [
      "[12.246509516845702, 11.83590287704468, 11.377773450164792, 10.949885692474366, 10.526894006713865, 10.066175351409914, 9.54155439251709, 9.157875618530271, 8.626957428771973, 8.173713547729493]\n"
     ]
    },
    {
     "data": {
      "text/plain": [
       "252"
      ]
     },
     "execution_count": 29,
     "metadata": {},
     "output_type": "execute_result"
    }
   ],
   "source": [
    "results = []\n",
    "for i in range(252):\n",
    "    results.append(vqe(temp[i]))\n",
    "# results = np.arange(vqe(inputs))\n",
    "# summarize some of the results\n",
    "print(results[:10])\n",
    "len(results)"
   ]
  },
  {
   "cell_type": "code",
   "execution_count": 30,
   "metadata": {},
   "outputs": [
    {
     "data": {
      "image/png": "[encoded data removed]",
      "text/plain": [
       "<Figure size 432x288 with 1 Axes>"
      ]
     },
     "metadata": {
      "needs_background": "light"
     },
     "output_type": "display_data"
    }
   ],
   "source": [
    "from matplotlib import pyplot\n",
    "pyplot.plot(inputs, results)\n",
    "# show the plot\n",
    "pyplot.show()"
   ]
  },
  {
   "cell_type": "markdown",
   "metadata": {},
   "source": [
    "# for H4"
   ]
  },
  {
   "cell_type": "code",
   "execution_count": 3,
   "metadata": {},
   "outputs": [],
   "source": [
    "def hamiltonian_operator(a, b, c, d, e, f, g, h, i, j, k):\n",
    "    \"\"\"\n",
    "    Creates a*IIII + b*IIIZ + c*IIZI + d*IZII + e*ZIII + f*IIXX + g*IIYY + h*IXXI + i*IYYI + j*XXII+ k*YYII pauli sum\n",
    "    that will be our Hamiltonian operator.\n",
    "   \n",
    "    \"\"\"\n",
    "    pauli_dict = {\n",
    "        'paulis': [{\"coeff\": {\"imag\": 0.0, \"real\": a}, \"label\": \"IIII\"},\n",
    "                   {\"coeff\": {\"imag\": 0.0, \"real\": b}, \"label\": \"IIIZ\"},\n",
    "                   {\"coeff\": {\"imag\": 0.0, \"real\": c}, \"label\": \"IIZI\"},\n",
    "                   {\"coeff\": {\"imag\": 0.0, \"real\": d}, \"label\": \"IZII\"},\n",
    "                   {\"coeff\": {\"imag\": 0.0, \"real\": e}, \"label\": \"ZIII\"},\n",
    "                   {\"coeff\": {\"imag\": 0.0, \"real\": f}, \"label\": \"IIXX\"},\n",
    "                   {\"coeff\": {\"imag\": 0.0, \"real\": g}, \"label\": \"IIYY\"},\n",
    "                   {\"coeff\": {\"imag\": 0.0, \"real\": h}, \"label\": \"IXXI\"},\n",
    "                   {\"coeff\": {\"imag\": 0.0, \"real\": i}, \"label\": \"IYYI\"},\n",
    "                   {\"coeff\": {\"imag\": 0.0, \"real\": j}, \"label\": \"XXII\"},\n",
    "                   {\"coeff\": {\"imag\": 0.0, \"real\": k}, \"label\": \"YYII\"},\n",
    "                   ]\n",
    "    }\n",
    "    return WeightedPauliOperator.from_dict(pauli_dict)"
   ]
  },
  {
   "cell_type": "code",
   "execution_count": 4,
   "metadata": {},
   "outputs": [],
   "source": [
    "a, b, c, d, e, f, g, h, i, j, k = 28.656709, 0.218291, -6.125, -9.625, -13.125, -2.143304, -2.143304, -3.91311, -3.91311, -5.670648, -5.670648\n",
    "H = hamiltonian_operator(a, b, c, d, e, f, g, h, i, j, k)"
   ]
  },
  {
   "cell_type": "code",
   "execution_count": 5,
   "metadata": {},
   "outputs": [
    {
     "name": "stdout",
     "output_type": "stream",
     "text": [
      "The exact ground state energy is: -2.1439801978179207\n"
     ]
    }
   ],
   "source": [
    "exact_result = NumPyEigensolver(H).run()\n",
    "reference_energy = min(np.real(exact_result.eigenvalues))\n",
    "print('The exact ground state energy is: {}'.format(reference_energy))"
   ]
  },
  {
   "cell_type": "code",
   "execution_count": 6,
   "metadata": {},
   "outputs": [],
   "source": [
    "def vqe_circuit(parameters, measure):\n",
    "    \"\"\"Creates a device ansatz circuit for optimization.\n",
    "    :param parameters_array: list of parameters for constructing ansatz state that should be optimized.\n",
    "    :param measure: measurement type. E.g. 'IIIZ' stands for Z0 measurement,  'IXXI' stands for X1X2 measurement.\n",
    "    :return: quantum circuit.\n",
    "    \"\"\"\n",
    "    q = QuantumRegister(4)\n",
    "    c = ClassicalRegister(4)\n",
    "    circuit = QuantumCircuit(q, c)\n",
    "    \n",
    "    circuit.x(3)\n",
    "    circuit.ry(parameters[0],q[2])\n",
    "    circuit.cx(q[2], q[3])\n",
    "    circuit.barrier(q[0], q[1], q[2], q[3])\n",
    "    circuit.ry(parameters[1], q[1])\n",
    "    circuit.cx(q[2], q[1])\n",
    "    circuit.ry(-parameters[1], q[1])\n",
    "    circuit.cx(q[2], q[1])\n",
    "    circuit.cx(q[1], q[2])\n",
    "    circuit.barrier(q[0], q[1], q[2], q[3])\n",
    "    circuit.ry(parameters[2], q[0])\n",
    "    circuit.cx(q[1], q[0])\n",
    "    circuit.ry(-parameters[2],q[0])\n",
    "    circuit.cx(q[1], q[0])\n",
    "    circuit.cx(q[0], q[1])\n",
    "    # measurement\n",
    "    if measure == 'IIIZ':\n",
    "        circuit.barrier(q[0], q[1], q[2], q[3])\n",
    "        circuit.measure(q[0], c[0])\n",
    "    elif measure == 'IIZI':\n",
    "        circuit.barrier(q[0], q[1], q[2], q[3])\n",
    "        circuit.measure(q[1], c[1])\n",
    "    elif measure == 'IZII':\n",
    "        circuit.barrier(q[0], q[1], q[2], q[3])\n",
    "        circuit.measure(q[2], c[2])\n",
    "    elif measure == 'ZIII':\n",
    "        circuit.barrier(q[0], q[1], q[2], q[3])\n",
    "        circuit.measure(q[3], c[3])\n",
    "    elif measure == 'IIXX':\n",
    "        circuit.barrier(q[0], q[1], q[2], q[3])\n",
    "        circuit.u(np.pi/2, 0, np.pi, q[0])\n",
    "        circuit.u(np.pi/2, 0, np.pi, q[1])\n",
    "        circuit.measure(q[0], c[0])\n",
    "        circuit.measure(q[1], c[1])\n",
    "    elif measure == 'IIYY':\n",
    "        circuit.barrier(q[0], q[1], q[2], q[3])\n",
    "        circuit.u(np.pi/2, 0, np.pi/2, q[0])\n",
    "        circuit.u(np.pi/2,0, np.pi/2, q[1])\n",
    "        circuit.measure(q[0], c[0])\n",
    "        circuit.measure(q[1], c[1])\n",
    "    elif measure == 'IXXI':\n",
    "        circuit.barrier(q[0], q[1], q[2], q[3])\n",
    "        circuit.u(np.pi/2, 0, np.pi, q[1])\n",
    "        circuit.u(np.pi/2, 0, np.pi, q[2])\n",
    "        circuit.measure(q[1], c[1])\n",
    "        circuit.measure(q[2], c[2])\n",
    "    elif measure == 'IYYI':\n",
    "        circuit.barrier(q[0], q[1], q[2], q[3])\n",
    "        circuit.u(np.pi/2, 0, np.pi/2, q[1])\n",
    "        circuit.u(np.pi/2,0, np.pi/2, q[2])\n",
    "        circuit.measure(q[1], c[1])\n",
    "        circuit.measure(q[2], c[2])\n",
    "    elif measure == 'XXII':\n",
    "        circuit.barrier(q[0], q[1], q[2], q[3])\n",
    "        circuit.u(np.pi/2, 0, np.pi, q[2])\n",
    "        circuit.u(np.pi/2, 0, np.pi, q[3])\n",
    "        circuit.measure(q[2], c[2])\n",
    "        circuit.measure(q[3], c[3])\n",
    "    elif measure == 'YYII':\n",
    "        circuit.barrier(q[0], q[1], q[2], q[3])\n",
    "        circuit.u(np.pi/2, 0, np.pi/2, q[2])\n",
    "        circuit.u(np.pi/2,0, np.pi/2, q[3])\n",
    "        circuit.measure(q[2], c[2])\n",
    "        circuit.measure(q[3], c[3])\n",
    "    else:\n",
    "        raise ValueError('Not valid input for measurement')\n",
    "    \n",
    "    return circuit\n"
   ]
  },
  {
   "cell_type": "code",
   "execution_count": 7,
   "metadata": {},
   "outputs": [],
   "source": [
    "def quantum_module(parameters, measure):\n",
    "    # measure\n",
    "    if measure == 'IIII':\n",
    "        return 1\n",
    "    elif measure == 'IIIZ':\n",
    "        circuit = vqe_circuit(parameters, 'IIIZ')\n",
    "    elif measure == 'IIZI':\n",
    "        circuit = vqe_circuit(parameters, 'IIZI')\n",
    "    elif measure == 'IZII':\n",
    "        circuit = vqe_circuit(parameters, 'IZII')\n",
    "    elif measure == 'ZIII':\n",
    "        circuit = vqe_circuit(parameters, 'ZIII')\n",
    "    elif measure == 'IIXX':\n",
    "        circuit = vqe_circuit(parameters, 'IIXX')\n",
    "    elif measure == 'IIYY':\n",
    "        circuit = vqe_circuit(parameters, 'IIYY')\n",
    "    elif measure == 'IXXI':\n",
    "        circuit = vqe_circuit(parameters, 'IXXI')\n",
    "    elif measure == 'IYYI':\n",
    "        circuit = vqe_circuit(parameters, 'IYYI')\n",
    "    elif measure == 'XXII':\n",
    "        circuit = vqe_circuit(parameters, 'XXII')\n",
    "    elif measure == 'YYII':\n",
    "        circuit = vqe_circuit(parameters, 'YYII')\n",
    "    else:\n",
    "        raise ValueError('Not valid input for measurement')\n",
    "   \n",
    "    shots = 65536\n",
    "    backend = BasicAer.get_backend('qasm_simulator')\n",
    "    job = execute(circuit, backend, shots=shots)\n",
    "    result = job.result()\n",
    "    counts = result.get_counts()\n",
    "    # expectation value estimation from counts\n",
    "    expectation_value = 0\n",
    "    for measure_result in counts:\n",
    "        sign = -1\n",
    "        if (measure_result == '0000') or (measure_result == '0011')  or (measure_result == '0101')  or (measure_result == '0110') or (measure_result == '1001') or (measure_result == '1010') or (measure_result == '1100') or (measure_result == '1111'):\n",
    "             sign = +1\n",
    "        expectation_value += sign * counts[measure_result] / shots\n",
    "        \n",
    "    return expectation_value"
   ]
  },
  {
   "cell_type": "code",
   "execution_count": 8,
   "metadata": {},
   "outputs": [],
   "source": [
    "def pauli_operator_to_dict(pauli_operator):\n",
    "   \n",
    "    d = pauli_operator.to_dict()\n",
    "    paulis = d['paulis']\n",
    "    paulis_dict = {}\n",
    "    \n",
    "    for x in paulis:\n",
    "        label = x['label']\n",
    "        coeff = x['coeff']['real']\n",
    "        paulis_dict[label] = coeff\n",
    "    return paulis_dict\n",
    "pauli_dict = pauli_operator_to_dict(H)"
   ]
  },
  {
   "cell_type": "code",
   "execution_count": 9,
   "metadata": {},
   "outputs": [],
   "source": [
    "def vqe(parameters):\n",
    "       \n",
    "    # quantum_modules\n",
    "    quantum_module_IIII = pauli_dict['IIII'] * quantum_module(parameters, 'IIII')\n",
    "    quantum_module_IIIZ = pauli_dict['IIIZ'] * quantum_module(parameters, 'IIIZ')\n",
    "    quantum_module_IIZI = pauli_dict['IIZI'] * quantum_module(parameters, 'IIZI')\n",
    "    quantum_module_IZII = pauli_dict['IZII'] * quantum_module(parameters, 'IZII')\n",
    "    quantum_module_ZIII = pauli_dict['ZIII'] * quantum_module(parameters, 'ZIII')\n",
    "    quantum_module_IIXX = pauli_dict['IIXX'] * quantum_module(parameters, 'IIXX')\n",
    "    quantum_module_IIYY = pauli_dict['IIYY'] * quantum_module(parameters, 'IIYY')\n",
    "    quantum_module_IXXI = pauli_dict['IXXI'] * quantum_module(parameters, 'IXXI')\n",
    "    quantum_module_IYYI = pauli_dict['IYYI'] * quantum_module(parameters, 'IYYI')\n",
    "    quantum_module_XXII = pauli_dict['XXII'] * quantum_module(parameters, 'XXII')\n",
    "    quantum_module_YYII = pauli_dict['YYII'] * quantum_module(parameters, 'YYII')\n",
    "   \n",
    "    # summing the measurement results\n",
    "    classical_adder = quantum_module_IIII + quantum_module_IIIZ + quantum_module_IIZI + quantum_module_IZII + quantum_module_ZIII + quantum_module_IIXX  + quantum_module_IIYY + quantum_module_IXXI + quantum_module_IYYI + quantum_module_XXII + quantum_module_YYII \n",
    "    return classical_adder\n"
   ]
  },
  {
   "cell_type": "code",
   "execution_count": 13,
   "metadata": {},
   "outputs": [
    {
     "name": "stdout",
     "output_type": "stream",
     "text": [
      "The exact ground state energy is: -2.1439801978179207\n",
      "The estimated ground state energy from VQE algorithm is: -2.1416317929992683\n",
      "\n",
      "The optimal parameter theta is : [2.99158157 1.41132981 1.17018177] \n"
     ]
    }
   ],
   "source": [
    "parameters_array = np.array([np.pi,np.pi/2, np.pi/2])\n",
    "tol = 1e-5 # tolerance for optimization precision.\n",
    "a= {\"maxiter\" : 100}\n",
    "vqe_result = minimize(vqe, parameters_array, method=\"COBYLA\", tol=tol,options = a)\n",
    "print('The exact ground state energy is: {}'.format(reference_energy))\n",
    "print('The estimated ground state energy from VQE algorithm is: {}'.format(vqe_result.fun))\n",
    "print(\"\\nThe optimal parameter theta is : {} \".format(vqe_result.x))"
   ]
  },
  {
   "cell_type": "code",
   "execution_count": 14,
   "metadata": {},
   "outputs": [
    {
     "name": "stdout",
     "output_type": "stream",
     "text": [
      "-2.032787969848634\n"
     ]
    }
   ],
   "source": [
    "from qiskit.aqua.components.optimizers import COBYLA, SPSA\n",
    "\n",
    "# Initialize the COBYLA optimizer\n",
    "optimizer = COBYLA(maxiter=100, tol=0.001)\n",
    "parameters_array = np.array([np.pi, np.pi/2, np.pi/2])\n",
    "\n",
    "vqe_results = optimizer.optimize(num_vars=3, objective_function=vqe, initial_point=parameters_array)\n",
    "print(vqe_results[1])"
   ]
  },
  {
   "cell_type": "code",
   "execution_count": null,
   "metadata": {},
   "outputs": [],
   "source": []
  }
 ],
 "metadata": {
  "kernelspec": {
   "display_name": "Python 3",
   "language": "python",
   "name": "python3"
  },
  "language_info": {
   "codemirror_mode": {
    "name": "ipython",
    "version": 3
   },
   "file_extension": ".py",
   "mimetype": "text/x-python",
   "name": "python",
   "nbconvert_exporter": "python",
   "pygments_lexer": "ipython3",
   "version": "3.7.6"
  }
 },
 "nbformat": 4,
 "nbformat_minor": 5
}
